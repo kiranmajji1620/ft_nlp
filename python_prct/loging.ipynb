{
 "cells": [
  {
   "cell_type": "markdown",
   "id": "85961caa",
   "metadata": {},
   "source": [
    "## Levels of severity\n",
    "- Level     Function\n",
    "- DEBUG     logging.debug() : Provides detailed information that's valuable to developer.\n",
    "- INFO      logging.info()  : Provides general information about what's going on with the program\n",
    "- WARNING   logging.warning() : Indicates that there's something you should look into\n",
    "- ERROR     logging.error()   : Alerts you to an expected problem that's occured in program\n",
    "- CRITICAL  logging.critical(): Tells you that a serious error has occurred and may have crashed the application"
   ]
  },
  {
   "cell_type": "code",
   "execution_count": 2,
   "id": "b4bb35b9",
   "metadata": {},
   "outputs": [
    {
     "name": "stderr",
     "output_type": "stream",
     "text": [
      "2025-05-15 13:06:30,940 - DEBUG - root - This is a debug message\n",
      "2025-05-15 13:06:30,943 - INFO - root - This is an info message\n",
      "2025-05-15 13:06:30,944 - WARNING - root - This is a Warning message\n",
      "2025-05-15 13:06:30,945 - ERROR - root - This is an error message\n",
      "2025-05-15 13:06:30,946 - CRITICAL - root - This is a critical message\n",
      "2025-05-15 13:06:30,947 - DEBUG - root - This debug will be logged now\n"
     ]
    }
   ],
   "source": [
    "import logging\n",
    "logging.basicConfig(format=\"{asctime} - {levelname} - {name} - {message}\", style = \"{\", level=\"DEBUG\")\n",
    "# Additional information, like the time of the log message becomes even more important when you want to keep a log of incidents over time or when you want to persist your logs in a external file.\n",
    "logging.basicConfig(level=\"DEBUG\")\n",
    "\n",
    "\n",
    "# Once .basicConfig() is called, it can't be re configured.\n",
    "logging.debug(\"This is a debug message\")\n",
    "logging.info(\"This is an info message\")\n",
    "logging.warning(\"This is a Warning message\")\n",
    "logging.error(\"This is an error message\")\n",
    "logging.critical(\"This is a critical message\")\n",
    "\n",
    "# debug() and info() messages didn't get logged. Coz, by default, the logging module logs the messages with a severity level of warning or above. Can change this/\n",
    "\n",
    "# Setting the level\n",
    "# This should be set at the beginning of the code before logging anything.\n",
    "# logging.basicConfig(level=logging.DEBUG) \n",
    "# logging.basicConfig(level=10)\n",
    "logging.debug(\"This debug will be logged now\")"
   ]
  },
  {
   "cell_type": "code",
   "execution_count": 6,
   "id": "42653eda",
   "metadata": {},
   "outputs": [
    {
     "name": "stderr",
     "output_type": "stream",
     "text": [
      "2025-05-15 13:07:25,630 - WARNING - root - save me!\n",
      "2025-05-15 13:07:25,632 - DEBUG - root - This is a LadyBug\n",
      "2025-05-15 13:07:25,633 - DEBUG - root - This is the name of the file : __main__\n",
      "2025-05-15 13:07:25,634 - ERROR - root - Donut Calculation Error\n",
      "Traceback (most recent call last):\n",
      "  File \"/tmp/ipykernel_48810/813700959.py\", line 9, in <module>\n",
      "    donuts_per_guest = 89/0\n",
      "ZeroDivisionError: division by zero\n"
     ]
    }
   ],
   "source": [
    "import logging\n",
    "logging.basicConfig(filename=\"app.log\", encoding=\"utf-8\", filemode=\"w\", format=\"{asctime} - {levelname} - {message}\", style = \"{\", datefmt=\"%Y-%m-%d %H:%M\", level=\"DEBUG\")\n",
    "logging.warning(\"save me!\")\n",
    "bug = \"LadyBug\"\n",
    "logging.debug(f\"This is a {bug}\")\n",
    "logging.debug(f\"This is the name of the file : {__name__}\")\n",
    "# Logging Exceptions to capture stack traces\n",
    "try:\n",
    "    donuts_per_guest = 89/0\n",
    "except ZeroDivisionError:\n",
    "    # logging.error(\"Donut Calculation Error\", exc_info=True)\n",
    "    # Or simply say \n",
    "    logging.exception(\"Donut Calculation Error\")\n",
    "    # logging.exception comes with sensitivity of ERROR.\n",
    "    # This should be called only during exception handling.\n",
    "    # If you don't want the severity to be ERROR, then we can pass exc_info to be true to that log."
   ]
  },
  {
   "cell_type": "markdown",
   "id": "87fce760",
   "metadata": {},
   "source": [
    "## Custom Log"
   ]
  },
  {
   "cell_type": "code",
   "execution_count": 7,
   "id": "8ad8eb03",
   "metadata": {},
   "outputs": [
    {
     "name": "stderr",
     "output_type": "stream",
     "text": [
      "2025-05-15 13:08:42,941 - WARNING - __main__ - This is a jogger warning\n",
      "This is a kogger warning\n",
      "2025-05-15 13:08:42,944 - WARNING - __main__ - This is a kogger warning\n"
     ]
    },
    {
     "name": "stdout",
     "output_type": "stream",
     "text": [
      "[<StreamHandler stderr (NOTSET)>, <FileHandler /home/saikiran-23414/Desktop/past_files/ft_nlp/python_prct/app.log (NOTSET)>]\n"
     ]
    }
   ],
   "source": [
    "# Downside of working with root logger is that the configuration can be cumbersome as you're relying on a single basicConfig(). For bigger projects, you'll need more flexibility for your logging needs.\n",
    "jogger = logging.getLogger(__name__)\n",
    "# It is a good practice to put __name__ this way, loggers name is always the modules name.\n",
    "jogger.warning(\"This is a jogger warning\")\n",
    "# custom loggers don't come with additional logging information. And also, we can't call basicConfig(). Instead we'll have to configure our custom logger using handlers and formatters. They give us more flexibility.\n",
    "# Handlers : When you want to configure your own loggers\n",
    "# Want to send messages to different locations\n",
    "kogger = logging.getLogger(__name__)\n",
    "console_handler = logging.StreamHandler()\n",
    "file_handler = logging.FileHandler(\"app.log\", mode = \"w\", encoding=\"utf-8\")\n",
    "kogger.addHandler(console_handler)\n",
    "kogger.addHandler(file_handler)\n",
    "print(kogger.handlers)\n",
    "kogger.warning(\"This is a kogger warning\")\n",
    "\n",
    "# Handlers send your logs to the output destination we define.\n",
    "# With a formatter, we can control the output format by specifying format like we did in basicConfig()"
   ]
  }
 ],
 "metadata": {
  "kernelspec": {
   "display_name": "nmt",
   "language": "python",
   "name": "python3"
  },
  "language_info": {
   "codemirror_mode": {
    "name": "ipython",
    "version": 3
   },
   "file_extension": ".py",
   "mimetype": "text/x-python",
   "name": "python",
   "nbconvert_exporter": "python",
   "pygments_lexer": "ipython3",
   "version": "3.9.21"
  }
 },
 "nbformat": 4,
 "nbformat_minor": 5
}
